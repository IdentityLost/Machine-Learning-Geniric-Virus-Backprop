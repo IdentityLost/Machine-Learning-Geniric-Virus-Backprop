{
  "nbformat": 4,
  "nbformat_minor": 0,
  "metadata": {
    "colab": {
      "name": "SMLModels.ipynb",
      "provenance": [],
      "collapsed_sections": [],
      "authorship_tag": "ABX9TyPPwP1kJn+dhF9ciXb+BaYq",
      "include_colab_link": true
    },
    "kernelspec": {
      "name": "python3",
      "display_name": "Python 3"
    },
    "language_info": {
      "name": "python"
    }
  },
  "cells": [
    {
      "cell_type": "markdown",
      "metadata": {
        "id": "view-in-github",
        "colab_type": "text"
      },
      "source": [
        "<a href=\"https://colab.research.google.com/github/IdentityLost/Machine-Learning-Geniric-Virus-Backprop/blob/main/SMLModels.ipynb\" target=\"_parent\"><img src=\"https://colab.research.google.com/assets/colab-badge.svg\" alt=\"Open In Colab\"/></a>"
      ]
    },
    {
      "cell_type": "markdown",
      "metadata": {
        "id": "5IAH2aisTnDx"
      },
      "source": [
        "Data split"
      ]
    },
    {
      "cell_type": "code",
      "metadata": {
        "id": "Bs5tACUsTdqC"
      },
      "source": [
        "from sklearn.model_selection import train_test_split\n",
        "x_train, x_test, y_train, y_test = train_test_split(x, y(terget), test_size=0.20) #shuffel True or False"
      ],
      "execution_count": null,
      "outputs": []
    },
    {
      "cell_type": "markdown",
      "metadata": {
        "id": "QulAxMv-T4eC"
      },
      "source": [
        "GradientBoostingClassifer"
      ]
    },
    {
      "cell_type": "code",
      "metadata": {
        "id": "6sdJFOn3T1lV"
      },
      "source": [
        "from sklearn.ensemble import GradientBoostingClassifier\n",
        "from sklearn.metrics import classification_report\n",
        "estimators = [100, 300, 500]\n",
        "train_score = []\n",
        "val_score = []\n",
        "\n",
        "for estim in estimators:\n",
        "  gbc = GradientBoostingClassifier(n_estimators=estim, verbose=3)\n",
        "  gbc.fit(x_train, y_train)\n",
        "  train_score.append(gbc.score(x_train, y_train))\n",
        "  val_score.append(gbc.score(x_test, y_test))\n",
        "print(classification_report(y_test, gbc.predict(x_test))) # 1st place target, 2nd predict"
      ],
      "execution_count": null,
      "outputs": []
    },
    {
      "cell_type": "markdown",
      "metadata": {
        "id": "6baV6PWdVHhq"
      },
      "source": [
        "SGDClassifer"
      ]
    },
    {
      "cell_type": "code",
      "metadata": {
        "id": "SbKxleTsVLgr"
      },
      "source": [
        "from sklearn.linear_model import SGDClassifier\n",
        "from sklearn.metrics import classification_report\n",
        "sgd = SGDClassifier(max_iter=2000, tol=1e-2)\n",
        "sgd.fit(x_train, y_train)\n",
        "print(classification_report(y_test, sgd.predict(x_test)))"
      ],
      "execution_count": null,
      "outputs": []
    },
    {
      "cell_type": "markdown",
      "metadata": {
        "id": "U01kqsL2VeYD"
      },
      "source": [
        "RandomForest"
      ]
    },
    {
      "cell_type": "code",
      "metadata": {
        "id": "V-uLJGLWVWSx"
      },
      "source": [
        "from sklearn.ensemble import RandomForestClassifier\n",
        "from sklearn.metrics import classification_report\n",
        "\n",
        "train_score = []\n",
        "val_score = []\n",
        "\n",
        "clf2 = RandomForestClassifier(max_depth=100, random_state=0)\n",
        "clf2.fit(x_train, y_train)\n",
        "train_score.append(clf2.score(x_train, y_train))\n",
        "val_score.append(clf2.score(x_val, y_val))"
      ],
      "execution_count": null,
      "outputs": []
    },
    {
      "cell_type": "markdown",
      "metadata": {
        "id": "lPkjO7wXWXtJ"
      },
      "source": [
        "Saving Model With Pickle"
      ]
    },
    {
      "cell_type": "code",
      "metadata": {
        "id": "SoaoG7zVWV5w"
      },
      "source": [
        "import pickle\n",
        "filename = 'ModelName.sav'\n",
        "pickle.dump('name of model varaible', open(filename, 'wb')) #example pickle.dump(logreg, open(filename, 'wb'))"
      ],
      "execution_count": null,
      "outputs": []
    },
    {
      "cell_type": "markdown",
      "metadata": {
        "id": "tPas-7DtWa93"
      },
      "source": [
        "Load Model With Pickle"
      ]
    },
    {
      "cell_type": "code",
      "metadata": {
        "id": "UfN8w_6vWZ9S"
      },
      "source": [
        "import pickle\n",
        "loaded_model = pickle.load(open('SGDClassifier_model.sav', 'rb'))"
      ],
      "execution_count": null,
      "outputs": []
    }
  ]
}