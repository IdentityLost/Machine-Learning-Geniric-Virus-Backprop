{
  "nbformat": 4,
  "nbformat_minor": 0,
  "metadata": {
    "colab": {
      "name": "Visualisation.ipynb",
      "provenance": [],
      "authorship_tag": "ABX9TyMoEWh6aPDTMhn0VWRJHv/K",
      "include_colab_link": true
    },
    "kernelspec": {
      "name": "python3",
      "display_name": "Python 3"
    },
    "language_info": {
      "name": "python"
    }
  },
  "cells": [
    {
      "cell_type": "markdown",
      "metadata": {
        "id": "view-in-github",
        "colab_type": "text"
      },
      "source": [
        "<a href=\"https://colab.research.google.com/github/IdentityLost/Machine-Learning-Geniric-Virus-Backprop/blob/main/Visualisation.ipynb\" target=\"_parent\"><img src=\"https://colab.research.google.com/assets/colab-badge.svg\" alt=\"Open In Colab\"/></a>"
      ]
    },
    {
      "cell_type": "markdown",
      "metadata": {
        "id": "OdR22VC24mzY"
      },
      "source": [
        "Corrilation map"
      ]
    },
    {
      "cell_type": "code",
      "metadata": {
        "id": "UtWquw2K3z-C"
      },
      "source": [
        "import matplotlib.pyplot as plt\n",
        "import seaborn as sns\n",
        "\n",
        "plt.figure(figsize=(10,10))\n",
        "sns.heatmap(train_df.corr(), annot=True, square=True)"
      ],
      "execution_count": 2,
      "outputs": []
    },
    {
      "cell_type": "markdown",
      "metadata": {
        "id": "-FJaBovB45_e"
      },
      "source": [
        "Box Plot"
      ]
    },
    {
      "cell_type": "code",
      "metadata": {
        "id": "c8s9cHm-4Xoh"
      },
      "source": [
        "import seaborn\n",
        "train_df.boxplot(figsize=(10,10))"
      ],
      "execution_count": null,
      "outputs": []
    },
    {
      "cell_type": "markdown",
      "metadata": {
        "id": "dLFQep-x5AkG"
      },
      "source": [
        "Count plot"
      ]
    },
    {
      "cell_type": "code",
      "metadata": {
        "id": "Jf5FWtXI5B9S"
      },
      "source": [
        "import matplotlib.pyplot as plt\n",
        "import seaborn as sns\n",
        "\n",
        "plt.figure(figsize=(10, 10))\n",
        "sns.countplot(train_df['target'])"
      ],
      "execution_count": null,
      "outputs": []
    }
  ]
}