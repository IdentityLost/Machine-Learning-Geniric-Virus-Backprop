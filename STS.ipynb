{
  "nbformat": 4,
  "nbformat_minor": 0,
  "metadata": {
    "colab": {
      "name": "STS.ipynb",
      "provenance": [],
      "collapsed_sections": [],
      "authorship_tag": "ABX9TyMiD2JIsY07XpGRi465wiJn",
      "include_colab_link": true
    },
    "kernelspec": {
      "name": "python3",
      "display_name": "Python 3"
    },
    "language_info": {
      "name": "python"
    }
  },
  "cells": [
    {
      "cell_type": "markdown",
      "metadata": {
        "id": "view-in-github",
        "colab_type": "text"
      },
      "source": [
        "<a href=\"https://colab.research.google.com/github/IdentityLost/Machine-Learning-Geniric-Virus-Backprop/blob/main/STS.ipynb\" target=\"_parent\"><img src=\"https://colab.research.google.com/assets/colab-badge.svg\" alt=\"Open In Colab\"/></a>"
      ]
    },
    {
      "cell_type": "markdown",
      "metadata": {
        "id": "8Dwl9WbxOR1k"
      },
      "source": [
        "Text Cleaners"
      ]
    },
    {
      "cell_type": "code",
      "metadata": {
        "id": "5i7kn2d5N-pZ"
      },
      "source": [
        "import nltk\n",
        "from nltk.corpus import stopwords\n",
        "\n",
        "nltk.download('stopwords')\n",
        "\n",
        "def clean_data(df):\n",
        "  df = df.str.lower() # low registr like n , not N\n",
        "  df.replace(r'[^а-яА-Яa-zA-Z0-9]', ' ', regex = True, inplace = True)\n",
        "  stop_words = stopwords.words(\"russian\")\n",
        "  df = df.apply(lambda x: ' '.join([word for word in x.split() if word not in (stop_words)]))\n",
        "  return df"
      ],
      "execution_count": null,
      "outputs": []
    },
    {
      "cell_type": "markdown",
      "metadata": {
        "id": "fHjRUagSObgm"
      },
      "source": [
        "Text Vectorizer"
      ]
    },
    {
      "cell_type": "code",
      "metadata": {
        "id": "IAiiCfWoObDN"
      },
      "source": [
        "import csv\n",
        "from sklearn.feature_extraction.text import CountVectorizer\n",
        "\n",
        "\n",
        "stop_wordss = stopwords.words('russian')\n",
        "cv = CountVectorizer(stop_words = stop_wordss)\n",
        "\n",
        "vec_dict = cv.fit_transform(df).toarray()\n",
        "my_dict = cv.vocabulary_\n",
        "\n",
        "\n",
        "\n",
        "with open('Neme of file', 'w', encoding='utf-16') as file:\n",
        "  w = csv.DictWriter(file, my_dict.keys())\n",
        "  w.writeheader()\n",
        "  w.writerow(my_dict)"
      ],
      "execution_count": null,
      "outputs": []
    },
    {
      "cell_type": "markdown",
      "metadata": {
        "id": "wWAQA2a7Oo-4"
      },
      "source": [
        "Text Selectors and Numerical Selectors"
      ]
    },
    {
      "cell_type": "code",
      "metadata": {
        "id": "EUeafZu5Oolt"
      },
      "source": [
        "from sklearn.base import BaseEstimator, TransformerMixin\n",
        "from sklearn.pipeline import Pipeline\n",
        "from sklearn.feature_extraction.text import TfidfVectorizer\n",
        "\n",
        "class TextSelector(BaseEstimator, TransformerMixin):\n",
        "  def __init__(self, key):\n",
        "    self.key = key\n",
        "  def fit(self, X):\n",
        "    return self\n",
        "  def transform(self, X, y = None):\n",
        "    return X[self.key]\n",
        "\n",
        "\n",
        "class NumericalSelector(BaseEstimator, TransformerMixin):\n",
        "  def __init__(self, key):\n",
        "    self.key = key\n",
        "  def fit(self, X):\n",
        "    return self\n",
        "  def transform(self, X, y=None):\n",
        "    return X[[self.key]]"
      ],
      "execution_count": null,
      "outputs": []
    },
    {
      "cell_type": "markdown",
      "metadata": {
        "id": "tnNdTE-SQnw_"
      },
      "source": [
        "Some convaires wiht pipeline for text"
      ]
    },
    {
      "cell_type": "code",
      "metadata": {
        "id": "yRfhByGeQm-e"
      },
      "source": [
        "stop_words_s = stopwords.words('russian')\n",
        "\n",
        "title = Pipeline([('selector', TextSelector(key='Name of data column')),\n",
        "                  ('tfidf', TfidfVectorizer(stop_words=stop_words_s, tokenizer=stemming_tokenizer)) ])\n",
        "\n",
        "title.fit_transform(df)"
      ],
      "execution_count": null,
      "outputs": []
    },
    {
      "cell_type": "markdown",
      "metadata": {
        "id": "_ACPWgksQ2TJ"
      },
      "source": [
        "Some convaires wiht pipeline for numbers"
      ]
    },
    {
      "cell_type": "code",
      "metadata": {
        "id": "VeoDf9n_RAGe"
      },
      "source": [
        "from sklearn.preprocessing import StandardScaler\n",
        "\n",
        "ves_title = Pipeline([('selector', NumericalSelector(key='Name of data column')),\n",
        "                 ('tfidf', StandardScaler())\n",
        "                ])\n",
        "ves_title.fit_transform(df)"
      ],
      "execution_count": null,
      "outputs": []
    },
    {
      "cell_type": "markdown",
      "metadata": {
        "id": "9g5JliHnOzPm"
      },
      "source": [
        "Text Stemmer"
      ]
    },
    {
      "cell_type": "code",
      "metadata": {
        "id": "n4ikD72QOyu5"
      },
      "source": [
        "from nltk.stem.snowball import SnowballStemmer\n",
        "import re\n",
        "\n",
        "stemmer = SnowballStemmer('russian')\n",
        "\n",
        "def stemming_tokenizer(text):\n",
        "  text = re.split('\\W+', text)\n",
        "  text = [stemmer.stem(word) for word in text]\n",
        "  return text\n"
      ],
      "execution_count": null,
      "outputs": []
    },
    {
      "cell_type": "markdown",
      "metadata": {
        "id": "7qH2PVHCSdGz"
      },
      "source": [
        "Text visualisation"
      ]
    },
    {
      "cell_type": "code",
      "metadata": {
        "id": "T0AJLRrdSghs"
      },
      "source": [
        "from wordcloud import WordCloud\n",
        "\n",
        "cloud = WordCloud(stopwords=stop_words_s).generate(text1)\n",
        "plt.figure(figsize=(15,10))\n",
        "plt.imshow(cloud)\n",
        "plt.axis('off')\n",
        "cloud = WordCloud(stopwords=stop_words_s).generate(text2)\n",
        "plt.figure(figsize=(15,10))\n",
        "plt.imshow(cloud)\n",
        "plt.axis('off')"
      ],
      "execution_count": null,
      "outputs": []
    }
  ]
}